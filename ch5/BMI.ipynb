{
 "cells": [
  {
   "cell_type": "code",
   "execution_count": 1,
   "metadata": {
    "collapsed": false,
    "tags": []
   },
   "outputs": [
    {
     "output_type": "stream",
     "name": "stdout",
     "text": "height  weight   label  label_pat\n0       0.710    0.62     fat  [0, 0, 1]\n1       0.710    0.73     fat  [0, 0, 1]\n2       0.885    0.61  normal  [0, 1, 0]\n3       0.935    0.48    thin  [1, 0, 0]\n4       0.765    0.60     fat  [0, 0, 1]\n...       ...     ...     ...        ...\n19995   0.610    0.58     fat  [0, 0, 1]\n19996   0.965    0.69  normal  [0, 1, 0]\n19997   0.965    0.37    thin  [1, 0, 0]\n19998   0.975    0.51    thin  [1, 0, 0]\n19999   0.815    0.67  normal  [0, 1, 0]\n\n[20000 rows x 4 columns]\n"
    }
   ],
   "source": [
    "import pandas as pd\n",
    "import numpy as np\n",
    "import json\n",
    "\n",
    "# 身長,体重,ラベルのCSVデータを読み出す\n",
    "csv = pd.read_csv(\"bmi.csv\")\n",
    "# ラベルを三次元のクラスで表す\n",
    "bclass = {\"thin\": [1,0,0], \"normal\": [0,1,0], \"fat\": [0,0,1]}\n",
    "csv[\"label_pat\"] = csv[\"label\"].apply(lambda x : np.array(bclass[x]))\n",
    "# データを正規化\n",
    "csv[\"height\"] = csv[\"height\"] / 200\n",
    "csv[\"weight\"] = csv[\"weight\"] / 100\n",
    "print(csv)\n"
   ]
  },
  {
   "cell_type": "code",
   "execution_count": 2,
   "metadata": {
    "collapsed": false
   },
   "outputs": [
    {
     "output_type": "execute_result",
     "data": {
      "text/plain": "Empty DataFrame\nColumns: [height, weight, label, label_pat]\nIndex: []",
      "text/html": "<div>\n<style scoped>\n    .dataframe tbody tr th:only-of-type {\n        vertical-align: middle;\n    }\n\n    .dataframe tbody tr th {\n        vertical-align: top;\n    }\n\n    .dataframe thead th {\n        text-align: right;\n    }\n</style>\n<table border=\"1\" class=\"dataframe\">\n  <thead>\n    <tr style=\"text-align: right;\">\n      <th></th>\n      <th>height</th>\n      <th>weight</th>\n      <th>label</th>\n      <th>label_pat</th>\n    </tr>\n  </thead>\n  <tbody>\n  </tbody>\n</table>\n</div>"
     },
     "metadata": {},
     "execution_count": 2
    }
   ],
   "source": [
    "step=0\n",
    "rows = csv[step*10:(step+1)*10]\n",
    "x_pat = rows[[\"weight\",\"height\"]]\n",
    "y_ans = rows[\"label_pat\"]\n",
    "\n",
    "csv[0:0]"
   ]
  },
  {
   "cell_type": "code",
   "execution_count": 3,
   "metadata": {
    "collapsed": true,
    "tags": []
   },
   "outputs": [
    {
     "output_type": "stream",
     "name": "stdout",
     "text": "WARNING:tensorflow:From /Users/cedar/.pyenv/versions/anaconda3-2020.02/envs/venv/lib/python3.7/site-packages/tensorflow_core/python/compat/v2_compat.py:88: disable_resource_variables (from tensorflow.python.ops.variable_scope) is deprecated and will be removed in a future version.\nInstructions for updating:\nnon-resource variables are not supported in the long term\n"
    }
   ],
   "source": [
    "# import tensorflow as tf\n",
    "import tensorflow.compat.v1 as tf\n",
    "tf.disable_v2_behavior()"
   ]
  },
  {
   "cell_type": "code",
   "execution_count": 9,
   "metadata": {
    "collapsed": false
   },
   "outputs": [
    {
     "output_type": "execute_result",
     "data": {
      "text/plain": "array([[0., 0., 1.],\n       [0., 1., 0.],\n       [1., 0., 0.],\n       [0., 0., 1.],\n       [1., 0., 0.],\n       [0., 1., 0.],\n       [1., 0., 0.],\n       [1., 0., 0.],\n       [1., 0., 0.]], dtype=float32)"
     },
     "metadata": {},
     "execution_count": 9
    }
   ],
   "source": [
    "step = 0\n",
    "rows = csv[1+step*10:(step+1)*10]\n",
    "x_pat = rows[[\"weight\",\"height\"]]\n",
    "y_ans = list(rows[\"label_pat\"])\n",
    "\n",
    "x = tf.placeholder(tf.float32, [None, 2], name=\"x\")\n",
    "y_ = tf.placeholder(tf.float32, [None, 3], name=\"y_\")\n",
    "\n",
    "sess = tf.Session()\n",
    "#sess.run(x, feed_dict={x: x_pat})\n",
    "sess.run(y_, feed_dict={y_: y_ans})\n",
    "\n",
    "\n"
   ]
  },
  {
   "cell_type": "code",
   "execution_count": 4,
   "metadata": {
    "collapsed": false,
    "tags": []
   },
   "outputs": [
    {
     "output_type": "stream",
     "name": "stdout",
     "text": "WARNING:tensorflow:From /Users/cedar/.pyenv/versions/anaconda3-2020.02/envs/venv/lib/python3.7/site-packages/tensorflow_core/python/util/tf_should_use.py:235: initialize_all_variables (from tensorflow.python.ops.variables) is deprecated and will be removed after 2017-03-02.\nInstructions for updating:\nUse `tf.global_variables_initializer` instead.\nstep= 0 ce= 104.22368 acc= 0.4772\nstep= 100 ce= 79.69935 acc= 0.713\nstep= 200 ce= 68.7156 acc= 0.7812\nstep= 300 ce= 62.16098 acc= 0.8236\nstep= 400 ce= 57.63057 acc= 0.8516\nstep= 500 ce= 54.223156 acc= 0.871\nstep= 600 ce= 51.5192 acc= 0.8892\nstep= 700 ce= 49.293255 acc= 0.9008\nstep= 800 ce= 47.41143 acc= 0.9096\nstep= 900 ce= 45.78824 acc= 0.919\nstep= 1000 ce= 44.36596 acc= 0.9276\nstep= 1100 ce= 43.103897 acc= 0.9344\nstep= 1200 ce= 41.972347 acc= 0.9396\nstep= 1300 ce= 40.948956 acc= 0.9426\nstep= 1400 ce= 40.01657 acc= 0.9472\nstep= 1500 ce= 39.161705 acc= 0.9518\nstep= 1600 ce= 38.37357 acc= 0.9532\nstep= 1700 ce= 37.643414 acc= 0.9542\nstep= 1800 ce= 36.964085 acc= 0.957\nstep= 1900 ce= 36.329597 acc= 0.9586\nstep= 2000 ce= 35.734962 acc= 0.9608\nstep= 2100 ce= 35.175938 acc= 0.9624\nstep= 2200 ce= 34.64892 acc= 0.963\nstep= 2300 ce= 34.150787 acc= 0.9644\nstep= 2400 ce= 33.678864 acc= 0.9648\nstep= 2500 ce= 33.230766 acc= 0.965\nstep= 2600 ce= 32.80449 acc= 0.9654\nstep= 2700 ce= 32.398186 acc= 0.9664\nstep= 2800 ce= 32.010273 acc= 0.9662\nstep= 2900 ce= 31.639334 acc= 0.9668\nstep= 3000 ce= 31.284098 acc= 0.9676\nstep= 3100 ce= 30.94342 acc= 0.9672\nstep= 3200 ce= 30.616283 acc= 0.968\nstep= 3300 ce= 30.30177 acc= 0.9682\nstep= 3400 ce= 29.999056 acc= 0.9692\nstep= 3500 ce= 29.707363 acc= 0.97\nstep= 3600 ce= 29.426027 acc= 0.9696\nstep= 3700 ce= 29.154394 acc= 0.9704\nstep= 3800 ce= 28.891907 acc= 0.9714\nstep= 3900 ce= 28.63804 acc= 0.9714\nstep= 4000 ce= 28.392311 acc= 0.9714\nstep= 4100 ce= 28.15426 acc= 0.9714\nstep= 4200 ce= 27.923492 acc= 0.9716\nstep= 4300 ce= 27.699614 acc= 0.9724\nstep= 4400 ce= 27.482285 acc= 0.9726\nstep= 4500 ce= 27.271168 acc= 0.9726\nstep= 4600 ce= 27.06597 acc= 0.9732\nstep= 4700 ce= 26.866396 acc= 0.9736\nstep= 4800 ce= 26.672197 acc= 0.9738\nstep= 4900 ce= 26.483112 acc= 0.9738\n"
    }
   ],
   "source": [
    "# データを入れるプレースホルダを宣言\n",
    "x    = tf.placeholder(tf.float32, [None, 2], name=\"x\") # 身長,体重のデータを入れる\n",
    "y_ = tf.placeholder(tf.float32, [None, 3]) # 答えのラベルを入れる\n",
    "\n",
    "# 変数を宣言\n",
    "W = tf.Variable(tf.random_uniform([2, 3], -1.0, 1.0)); # 重み\n",
    "b = tf.Variable(tf.zeros([3])); # バイアス\n",
    "# ソフトマックス回帰を定義\n",
    "y = tf.nn.softmax(tf.matmul(x, W) + b)\n",
    "\n",
    "# モデルを訓練する\n",
    "cross_entropy = -tf.reduce_sum(y_ * tf.log(tf.clip_by_value(y, 1e-10,1.0)))\n",
    "optimizer = tf.train.GradientDescentOptimizer(0.01)\n",
    "train = optimizer.minimize(cross_entropy)\n",
    "\n",
    "# 正解率を求めるためにテストデータを準備\n",
    "test_csv = csv[15000:20000]\n",
    "test_pat = test_csv[[\"weight\",\"height\"]]\n",
    "test_ans = list(test_csv[\"label_pat\"])\n",
    "# 正解率を求める\n",
    "predict = tf.equal(tf.argmax(y, 1), tf.argmax(y_,1))\n",
    "acc = tf.reduce_mean(tf.cast(predict, \"float\"))\n",
    "\n",
    "# セッションを開始\n",
    "sess = tf.Session()\n",
    "sess.run(tf.initialize_all_variables()) #変数を初期化\n",
    "# テストデータを用いて学習させる\n",
    "for step in range(5000):\n",
    "    i = (step * 100) % 1000\n",
    "    rows = csv[1 + i : 1 + i + 100]\n",
    "    x_pat = rows[[\"weight\",\"height\"]]\n",
    "    y_ans = list(rows[\"label_pat\"])\n",
    "    fd = {x: x_pat, y_: y_ans}\n",
    "    sess.run(train, feed_dict=fd)\n",
    "    if step % 100 == 0:\n",
    "        e = sess.run(cross_entropy, feed_dict=fd)\n",
    "        a = sess.run(acc, feed_dict={x: test_pat, y_: test_ans})\n",
    "        print(\"step=\", step, \"ce=\", e, \"acc=\", a)\n",
    "        "
   ]
  },
  {
   "cell_type": "code",
   "execution_count": 186,
   "metadata": {
    "collapsed": false
   },
   "outputs": [
    {
     "name": "stdout",
     "output_type": "stream",
     "text": [
      "0.811\n"
     ]
    }
   ],
   "source": [
    "# データを予測\n",
    "test_csv = csv[15000:20000]\n",
    "test_pat = test_csv[[\"weight\",\"height\"]]\n",
    "test_ans = list(test_csv[\"label_pat\"])\n",
    "predict = tf.equal(tf.argmax(y, 1), tf.argmax(y_,1))\n",
    "acc = tf.reduce_mean(tf.cast(predict, \"float\"))\n",
    "r = sess.run(acc, feed_dict={x: test_pat, y_:test_ans})\n",
    "print(r)"
   ]
  },
  {
   "cell_type": "code",
   "execution_count": 7,
   "metadata": {
    "collapsed": false,
    "tags": []
   },
   "outputs": [
    {
     "output_type": "stream",
     "name": "stdout",
     "text": "[1]\n"
    }
   ],
   "source": [
    "test = tf.argmax(y, 1)\n",
    "r = sess.run(test, feed_dict={x: [[70/100, 170/200]]})\n",
    "print(r)\n",
    "                                                          "
   ]
  },
  {
   "cell_type": "code",
   "execution_count": null,
   "metadata": {
    "collapsed": true
   },
   "outputs": [],
   "source": []
  }
 ],
 "metadata": {
  "kernelspec": {
   "display_name": "Python 3",
   "language": "python",
   "name": "python3"
  },
  "language_info": {
   "codemirror_mode": {
    "name": "ipython",
    "version": 3
   },
   "file_extension": ".py",
   "mimetype": "text/x-python",
   "name": "python",
   "nbconvert_exporter": "python",
   "pygments_lexer": "ipython3",
   "version": "3.7.7-final"
  }
 },
 "nbformat": 4,
 "nbformat_minor": 1
}